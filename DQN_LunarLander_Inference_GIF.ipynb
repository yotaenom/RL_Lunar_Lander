{
 "cells": [
  {
   "cell_type": "markdown",
   "id": "a3d80c37",
   "metadata": {},
   "source": [
    "## **Lunar Lander Inference with GIF saving**"
   ]
  },
  {
   "cell_type": "markdown",
   "id": "378991da",
   "metadata": {},
   "source": [
    "### Imports and Setup"
   ]
  },
  {
   "cell_type": "code",
   "execution_count": 1,
   "id": "44428442",
   "metadata": {},
   "outputs": [],
   "source": [
    "import gymnasium as gym\n",
    "from PIL import Image\n",
    "import os\n",
    "import torch\n",
    "import torch.nn as nn\n",
    "import torch.nn.functional as F\n",
    "import numpy as np\n",
    "from itertools import count"
   ]
  },
  {
   "cell_type": "markdown",
   "id": "73ec64e5",
   "metadata": {},
   "source": [
    "### Environment Setup"
   ]
  },
  {
   "cell_type": "code",
   "execution_count": 2,
   "id": "56adb893",
   "metadata": {},
   "outputs": [
    {
     "name": "stdout",
     "output_type": "stream",
     "text": [
      "Using device: cpu\n"
     ]
    }
   ],
   "source": [
    "env = gym.make(\"LunarLander-v3\", render_mode='rgb_array')\n",
    "device = torch.device(\"cuda\" if torch.cuda.is_available() else \"cpu\")\n",
    "print(f\"Using device: {device}\")"
   ]
  },
  {
   "cell_type": "markdown",
   "id": "68ec40d1",
   "metadata": {},
   "source": [
    "### Define Model"
   ]
  },
  {
   "cell_type": "code",
   "execution_count": 3,
   "id": "a28b2652",
   "metadata": {},
   "outputs": [],
   "source": [
    "class DQN(nn.Module):\n",
    "    def __init__(self, n_observations, n_actions):\n",
    "        super().__init__()\n",
    "        self.layer1 = nn.Linear(n_observations, 128)\n",
    "        self.layer2 = nn.Linear(128, 128)\n",
    "        self.layer3 = nn.Linear(128, n_actions)\n",
    "\n",
    "    def forward(self, x):\n",
    "        x = F.relu(self.layer1(x))\n",
    "        x = F.relu(self.layer2(x))\n",
    "        return self.layer3(x)"
   ]
  },
  {
   "cell_type": "markdown",
   "id": "f8b20974",
   "metadata": {},
   "source": [
    "### Load Trained Model"
   ]
  },
  {
   "cell_type": "code",
   "execution_count": 4,
   "id": "b015f06d",
   "metadata": {},
   "outputs": [
    {
     "name": "stdout",
     "output_type": "stream",
     "text": [
      "Model loaded successfully!\n"
     ]
    }
   ],
   "source": [
    "state_size = env.observation_space.shape[0]\n",
    "action_size = env.action_space.n\n",
    "\n",
    "policy_net = DQN(state_size, action_size).to(device)\n",
    "policy_net.load_state_dict(torch.load(\"models/dqn_lunarlander.pth\"))\n",
    "policy_net.eval()\n",
    "print(\"Model loaded successfully!\")"
   ]
  },
  {
   "cell_type": "markdown",
   "id": "3f0d9fae",
   "metadata": {},
   "source": [
    "### GIF saving function"
   ]
  },
  {
   "cell_type": "code",
   "execution_count": null,
   "id": "84c83423",
   "metadata": {},
   "outputs": [],
   "source": [
    "def save_frames_as_gif(frames, path='gif/', filename='LUNARLANDER_DQN_SUCCESS.gif'):\n",
    "    images = [Image.fromarray(frame) for frame in frames]\n",
    "    gif_path = os.path.join(path, filename)\n",
    "    images[0].save(gif_path, save_all=True, append_images=images[1:], duration=50, loop=0)\n",
    "    print(f\"Saved GIF to: {gif_path}\")"
   ]
  },
  {
   "cell_type": "markdown",
   "id": "f8c8bad8",
   "metadata": {},
   "source": [
    "### Run N episodes and save GIF only if success"
   ]
  },
  {
   "cell_type": "code",
   "execution_count": 6,
   "id": "be752dc9",
   "metadata": {},
   "outputs": [
    {
     "name": "stdout",
     "output_type": "stream",
     "text": [
      "Test Episode: 1/20, Reward: 16.74, Steps: 999\n",
      "Test Episode: 2/20, Reward: 234.16, Steps: 194\n",
      "✅ Successful landing detected! Saving GIF...\n",
      "Saved GIF to: ./LUNARLANDER_DQN_SUCCESS_EP2.gif\n",
      "Test Episode: 3/20, Reward: 223.58, Steps: 361\n",
      "✅ Successful landing detected! Saving GIF...\n",
      "Saved GIF to: ./LUNARLANDER_DQN_SUCCESS_EP3.gif\n",
      "Test Episode: 4/20, Reward: -2.09, Steps: 999\n",
      "Test Episode: 5/20, Reward: -33.11, Steps: 999\n",
      "Test Episode: 6/20, Reward: -4.29, Steps: 999\n",
      "Test Episode: 7/20, Reward: 218.30, Steps: 355\n",
      "✅ Successful landing detected! Saving GIF...\n",
      "Saved GIF to: ./LUNARLANDER_DQN_SUCCESS_EP7.gif\n",
      "Test Episode: 8/20, Reward: 207.03, Steps: 280\n",
      "✅ Successful landing detected! Saving GIF...\n",
      "Saved GIF to: ./LUNARLANDER_DQN_SUCCESS_EP8.gif\n",
      "Test Episode: 9/20, Reward: 216.18, Steps: 357\n",
      "✅ Successful landing detected! Saving GIF...\n",
      "Saved GIF to: ./LUNARLANDER_DQN_SUCCESS_EP9.gif\n",
      "Test Episode: 10/20, Reward: 222.50, Steps: 257\n",
      "✅ Successful landing detected! Saving GIF...\n",
      "Saved GIF to: ./LUNARLANDER_DQN_SUCCESS_EP10.gif\n",
      "Test Episode: 11/20, Reward: 221.84, Steps: 319\n",
      "✅ Successful landing detected! Saving GIF...\n",
      "Saved GIF to: ./LUNARLANDER_DQN_SUCCESS_EP11.gif\n",
      "Test Episode: 12/20, Reward: 142.79, Steps: 999\n",
      "Test Episode: 13/20, Reward: 144.75, Steps: 856\n",
      "Test Episode: 14/20, Reward: 253.44, Steps: 238\n",
      "✅ Successful landing detected! Saving GIF...\n",
      "Saved GIF to: ./LUNARLANDER_DQN_SUCCESS_EP14.gif\n",
      "Test Episode: 15/20, Reward: 250.11, Steps: 214\n",
      "✅ Successful landing detected! Saving GIF...\n",
      "Saved GIF to: ./LUNARLANDER_DQN_SUCCESS_EP15.gif\n",
      "Test Episode: 16/20, Reward: 204.96, Steps: 328\n",
      "✅ Successful landing detected! Saving GIF...\n",
      "Saved GIF to: ./LUNARLANDER_DQN_SUCCESS_EP16.gif\n",
      "Test Episode: 17/20, Reward: 261.01, Steps: 226\n",
      "✅ Successful landing detected! Saving GIF...\n",
      "Saved GIF to: ./LUNARLANDER_DQN_SUCCESS_EP17.gif\n",
      "Test Episode: 18/20, Reward: 267.65, Steps: 225\n",
      "✅ Successful landing detected! Saving GIF...\n",
      "Saved GIF to: ./LUNARLANDER_DQN_SUCCESS_EP18.gif\n",
      "Test Episode: 19/20, Reward: 276.40, Steps: 218\n",
      "✅ Successful landing detected! Saving GIF...\n",
      "Saved GIF to: ./LUNARLANDER_DQN_SUCCESS_EP19.gif\n",
      "Test Episode: 20/20, Reward: 238.72, Steps: 267\n",
      "✅ Successful landing detected! Saving GIF...\n",
      "Saved GIF to: ./LUNARLANDER_DQN_SUCCESS_EP20.gif\n"
     ]
    }
   ],
   "source": [
    "num_episodes_to_try = 20\n",
    "\n",
    "for e_test in range(num_episodes_to_try):\n",
    "    state, _ = env.reset()\n",
    "    state = torch.tensor(state, dtype=torch.float32, device=device).unsqueeze(0)\n",
    "    total_reward = 0\n",
    "    frames = []\n",
    "\n",
    "    for t in count():\n",
    "        with torch.no_grad():\n",
    "            action = policy_net(state).max(1).indices.view(1, 1)\n",
    "\n",
    "        next_state, reward, terminated, truncated, _ = env.step(action.item())\n",
    "        frame = env.render()\n",
    "        frames.append(frame)\n",
    "\n",
    "        next_state = torch.tensor(next_state, dtype=torch.float32, device=device).unsqueeze(0)\n",
    "        state = next_state\n",
    "        total_reward += reward\n",
    "\n",
    "        if terminated or truncated:\n",
    "            print(f\"Test Episode: {e_test+1}/{num_episodes_to_try}, Reward: {total_reward:.2f}, Steps: {t}\")\n",
    "\n",
    "            # --- Save GIF if successful landing ---\n",
    "            if total_reward >= 200:\n",
    "                print(\"✅ Successful landing detected! Saving GIF...\")\n",
    "                save_frames_as_gif(frames, filename=f'LUNARLANDER_DQN_SUCCESS_EP{e_test+1}.gif')\n",
    "                env.close()\n",
    "                break  # Stop after first success, or remove this to keep trying more\n",
    "\n",
    "            break"
   ]
  }
 ],
 "metadata": {
  "kernelspec": {
   "display_name": "my_new_env",
   "language": "python",
   "name": "python3"
  },
  "language_info": {
   "codemirror_mode": {
    "name": "ipython",
    "version": 3
   },
   "file_extension": ".py",
   "mimetype": "text/x-python",
   "name": "python",
   "nbconvert_exporter": "python",
   "pygments_lexer": "ipython3",
   "version": "3.9.21"
  }
 },
 "nbformat": 4,
 "nbformat_minor": 5
}
